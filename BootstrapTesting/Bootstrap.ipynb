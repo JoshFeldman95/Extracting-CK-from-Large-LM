{
 "cells": [
  {
   "cell_type": "code",
   "execution_count": 31,
   "metadata": {},
   "outputs": [],
   "source": [
    "import pandas as pd\n",
    "import numpy as np\n",
    "import matplotlib.pyplot as plt"
   ]
  },
  {
   "cell_type": "code",
   "execution_count": 23,
   "metadata": {},
   "outputs": [],
   "source": [
    "df = pd.read_csv('./data/wikipedia_top_final - wikipedia_top_final.csv')\n",
    "df = df[['rel', 'head', 'tail','Avg-Rating','score_concat_7','score_LM_4']]"
   ]
  },
  {
   "cell_type": "code",
   "execution_count": 29,
   "metadata": {},
   "outputs": [
    {
     "data": {
      "text/plain": [
       "0.11327275753684113"
      ]
     },
     "execution_count": 29,
     "metadata": {},
     "output_type": "execute_result"
    }
   ],
   "source": [
    "LM_relations = df.sort_values('score_LM_4', ascending=False).head(100)\n",
    "def bootstrap(df):\n",
    "    bootstrap_sample = df.sample(100, replace=True)\n",
    "    return bootstrap_sample['Avg-Rating'].mean()\n",
    "means = np.array([bootstrap(LM_relations) for _ in range(1000)])\n",
    "means.std()"
   ]
  },
  {
   "cell_type": "code",
   "execution_count": 30,
   "metadata": {},
   "outputs": [
    {
     "data": {
      "text/plain": [
       "0.12249742599336526"
      ]
     },
     "execution_count": 30,
     "metadata": {},
     "output_type": "execute_result"
    }
   ],
   "source": [
    "concat_relations = df.sort_values('score_concat_7', ascending=False).head(100)\n",
    "def bootstrap(df):\n",
    "    bootstrap_sample = df.sample(100, replace=True)\n",
    "    return bootstrap_sample['Avg-Rating'].mean()\n",
    "means = np.array([bootstrap(concat_relations) for _ in range(1000)])\n",
    "means.std()"
   ]
  },
  {
   "cell_type": "code",
   "execution_count": null,
   "metadata": {},
   "outputs": [],
   "source": []
  }
 ],
 "metadata": {
  "kernelspec": {
   "display_name": "Python 3",
   "language": "python",
   "name": "python3"
  },
  "language_info": {
   "codemirror_mode": {
    "name": "ipython",
    "version": 3
   },
   "file_extension": ".py",
   "mimetype": "text/x-python",
   "name": "python",
   "nbconvert_exporter": "python",
   "pygments_lexer": "ipython3",
   "version": "3.6.5"
  }
 },
 "nbformat": 4,
 "nbformat_minor": 2
}
