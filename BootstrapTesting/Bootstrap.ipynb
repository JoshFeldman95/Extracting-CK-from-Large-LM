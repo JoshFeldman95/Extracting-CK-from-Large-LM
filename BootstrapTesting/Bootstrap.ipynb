{
 "cells": [
  {
   "cell_type": "code",
   "execution_count": 39,
   "metadata": {},
   "outputs": [],
   "source": [
    "import pandas as pd\n",
    "import numpy as np\n",
    "import matplotlib.pyplot as plt"
   ]
  },
  {
   "cell_type": "code",
   "execution_count": 40,
   "metadata": {},
   "outputs": [],
   "source": [
    "df = pd.read_csv('./data/wikipedia_top_final - wikipedia_top_final.csv')\n",
    "df = df[['rel', 'head', 'tail','Avg-Rating','score_concat_7','score_LM_4']]"
   ]
  },
  {
   "cell_type": "code",
   "execution_count": 41,
   "metadata": {},
   "outputs": [],
   "source": [
    "df_ablation = pd.read_csv('./data/ablations - ablations.csv')\n",
    "df_ablation = df_ablation[['rel', 'head', 'tail','Avg-Rating','score_grammar_10','score_no_grammar_9']]"
   ]
  },
  {
   "cell_type": "code",
   "execution_count": 42,
   "metadata": {},
   "outputs": [],
   "source": [
    "def bootstrap(df):\n",
    "    bootstrap_sample = df.sample(100, replace=True)\n",
    "    return bootstrap_sample['Avg-Rating'].mean()"
   ]
  },
  {
   "cell_type": "code",
   "execution_count": 43,
   "metadata": {},
   "outputs": [
    {
     "data": {
      "text/plain": [
       "0.12158535263344841"
      ]
     },
     "execution_count": 43,
     "metadata": {},
     "output_type": "execute_result"
    }
   ],
   "source": [
    "LM_relations = df.sort_values('score_LM_4', ascending=False).head(100)\n",
    "means = np.array([bootstrap(LM_relations) for _ in range(1000)])\n",
    "means.std()"
   ]
  },
  {
   "cell_type": "code",
   "execution_count": 44,
   "metadata": {},
   "outputs": [
    {
     "data": {
      "text/plain": [
       "0.1305737254389259"
      ]
     },
     "execution_count": 44,
     "metadata": {},
     "output_type": "execute_result"
    }
   ],
   "source": [
    "grammar_relations = df_ablation.sort_values('score_grammar_10', ascending=False).head(100)\n",
    "means = np.array([bootstrap(grammar_relations) for _ in range(1000)])\n",
    "means.std()"
   ]
  },
  {
   "cell_type": "code",
   "execution_count": 46,
   "metadata": {},
   "outputs": [
    {
     "data": {
      "text/plain": [
       "0.11120324455698224"
      ]
     },
     "execution_count": 46,
     "metadata": {},
     "output_type": "execute_result"
    }
   ],
   "source": [
    "no_grammar_relations = df_ablation.sort_values('score_no_grammar_9', ascending=False).head(100)\n",
    "means = np.array([bootstrap(no_grammar_relations) for _ in range(1000)])\n",
    "means.std()"
   ]
  },
  {
   "cell_type": "code",
   "execution_count": null,
   "metadata": {},
   "outputs": [],
   "source": []
  }
 ],
 "metadata": {
  "kernelspec": {
   "display_name": "Python 3",
   "language": "python",
   "name": "python3"
  },
  "language_info": {
   "codemirror_mode": {
    "name": "ipython",
    "version": 3
   },
   "file_extension": ".py",
   "mimetype": "text/x-python",
   "name": "python",
   "nbconvert_exporter": "python",
   "pygments_lexer": "ipython3",
   "version": "3.6.5"
  }
 },
 "nbformat": 4,
 "nbformat_minor": 2
}
