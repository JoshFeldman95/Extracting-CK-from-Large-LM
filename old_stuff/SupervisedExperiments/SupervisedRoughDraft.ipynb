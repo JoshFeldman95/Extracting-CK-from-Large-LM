{
 "cells": [
  {
   "cell_type": "code",
   "execution_count": 1,
   "metadata": {},
   "outputs": [],
   "source": [
    "import os\n",
    "import sys\n",
    "module_path = os.path.abspath(os.path.join('..'))\n",
    "if module_path not in sys.path:\n",
    "    sys.path.append(module_path)"
   ]
  },
  {
   "cell_type": "code",
   "execution_count": 11,
   "metadata": {},
   "outputs": [],
   "source": [
    "from FilesToUploadToColab.experiments import DirectTemplate, EnumeratedTemplate, Experiment\n",
    "from pytorch_pretrained_bert import BertForMaskedLM, GPT2LMHeadModel\n",
    "import pandas as pd"
   ]
  },
  {
   "cell_type": "code",
   "execution_count": 3,
   "metadata": {},
   "outputs": [],
   "source": [
    "bert = BertForMaskedLM.from_pretrained('bert-large-uncased')\n",
    "gpt = GPT2LMHeadModel.from_pretrained('gpt2')"
   ]
  },
  {
   "cell_type": "code",
   "execution_count": 8,
   "metadata": {},
   "outputs": [
    {
     "name": "stdout",
     "output_type": "stream",
     "text": [
      "(-7.466170787811279, -3.6693410873413086, '[CLS] the tool is an object . [SEP]', 1)\n",
      "-11.135511875152588\n",
      "(-5.335318088531494, -1.6787428855895996, '[CLS] you are likely to find a fe ##rret at a pet store . [SEP]', 1)\n",
      "-7.014060974121094\n",
      "(-7.293811798095703, -2.6744000911712646, '[CLS] if you want to get onto web then you should turn on your computer . [SEP]', 1)\n",
      "-9.968211889266968\n",
      "(-6.5516157150268555, -0.21354389190673828, '[CLS] helium is a gas . [SEP]', 1)\n",
      "-6.765159606933594\n",
      "(-9.518251419067383, -4.429260730743408, '[CLS] most rock is hard . [SEP]', 1)\n",
      "-13.947512149810791\n",
      "(-11.424589157104492, -12.518746376037598, '[CLS] one of the things you do when you case joint is criminal . [SEP]', 0)\n",
      "-23.94333553314209\n",
      "(-5.562908172607422, -4.671208381652832, '[CLS] something that might happen while the lizard is sunni ##ng itself on rock . [SEP]', 0)\n",
      "-10.234116554260254\n",
      "(-7.574993133544922, -6.372175693511963, '[CLS] go jo ##g requires a person . [SEP]', 0)\n",
      "-13.947168827056885\n",
      "(-5.188491344451904, -5.389935493469238, '[CLS] the wall requires building . [SEP]', 0)\n",
      "-10.578426837921143\n",
      "(-12.061570167541504, -7.586630344390869, '[CLS] the carpet requires going to school . [SEP]', 0)\n",
      "-19.648200511932373\n",
      "(-4.878314018249512, -1.0884695053100586, '[CLS] a light match can start a fire . [SEP]', 0)\n",
      "-5.96678352355957\n",
      "(-15.595427513122559, -9.620616912841797, '[CLS] beer can cry loudly . [SEP]', 0)\n",
      "-25.216044425964355\n"
     ]
    }
   ],
   "source": [
    "data_dir = \"../FilesToUploadToColab/dev_sample.txt\"\n",
    "relation_dir = \"../FilesToUploadToColab/relation_map_multiple.json\"\n",
    "device = 'cpu'\n",
    "\n",
    "sentences_tail = EnumeratedTemplate(\n",
    "    data_dir, \n",
    "    False, \n",
    "    True, \n",
    "    device, \n",
    "    model = gpt, \n",
    "    template_loc=relation_dir\n",
    ")\n",
    "sentences_head = EnumeratedTemplate(\n",
    "    data_dir, \n",
    "    True, \n",
    "    False, \n",
    "    device, \n",
    "    model = gpt, \n",
    "    template_loc=relation_dir\n",
    ")\n",
    "experiment = Experiment(sentences_head, sentences_tail, bert, device)\n",
    "experiment.run_experiment()"
   ]
  },
  {
   "cell_type": "code",
   "execution_count": 16,
   "metadata": {},
   "outputs": [],
   "source": [
    "df = pd.DataFrame(experiment.results, columns = ('head_prob', 'tail_prob', 'sent', 'label'))\n",
    "df['pmi_squared'] = df.head_prob + df.tail_prob"
   ]
  },
  {
   "cell_type": "code",
   "execution_count": 17,
   "metadata": {},
   "outputs": [
    {
     "data": {
      "text/html": [
       "<div>\n",
       "<style scoped>\n",
       "    .dataframe tbody tr th:only-of-type {\n",
       "        vertical-align: middle;\n",
       "    }\n",
       "\n",
       "    .dataframe tbody tr th {\n",
       "        vertical-align: top;\n",
       "    }\n",
       "\n",
       "    .dataframe thead th {\n",
       "        text-align: right;\n",
       "    }\n",
       "</style>\n",
       "<table border=\"1\" class=\"dataframe\">\n",
       "  <thead>\n",
       "    <tr style=\"text-align: right;\">\n",
       "      <th></th>\n",
       "      <th>head_prob</th>\n",
       "      <th>tail_prob</th>\n",
       "      <th>sent</th>\n",
       "      <th>label</th>\n",
       "      <th>pmi_squared</th>\n",
       "    </tr>\n",
       "  </thead>\n",
       "  <tbody>\n",
       "    <tr>\n",
       "      <th>11</th>\n",
       "      <td>-9.620617</td>\n",
       "      <td>-15.595428</td>\n",
       "      <td>[CLS] beer can cry loudly . [SEP]</td>\n",
       "      <td>0</td>\n",
       "      <td>-25.216044</td>\n",
       "    </tr>\n",
       "    <tr>\n",
       "      <th>5</th>\n",
       "      <td>-12.518746</td>\n",
       "      <td>-11.424589</td>\n",
       "      <td>[CLS] one of the things you do when you case j...</td>\n",
       "      <td>0</td>\n",
       "      <td>-23.943336</td>\n",
       "    </tr>\n",
       "    <tr>\n",
       "      <th>9</th>\n",
       "      <td>-7.586630</td>\n",
       "      <td>-12.061570</td>\n",
       "      <td>[CLS] the carpet requires going to school . [SEP]</td>\n",
       "      <td>0</td>\n",
       "      <td>-19.648201</td>\n",
       "    </tr>\n",
       "    <tr>\n",
       "      <th>4</th>\n",
       "      <td>-4.429261</td>\n",
       "      <td>-9.518251</td>\n",
       "      <td>[CLS] most rock is hard . [SEP]</td>\n",
       "      <td>1</td>\n",
       "      <td>-13.947512</td>\n",
       "    </tr>\n",
       "    <tr>\n",
       "      <th>7</th>\n",
       "      <td>-6.372176</td>\n",
       "      <td>-7.574993</td>\n",
       "      <td>[CLS] go jo ##g requires a person . [SEP]</td>\n",
       "      <td>0</td>\n",
       "      <td>-13.947169</td>\n",
       "    </tr>\n",
       "    <tr>\n",
       "      <th>0</th>\n",
       "      <td>-3.669341</td>\n",
       "      <td>-7.466171</td>\n",
       "      <td>[CLS] the tool is an object . [SEP]</td>\n",
       "      <td>1</td>\n",
       "      <td>-11.135512</td>\n",
       "    </tr>\n",
       "    <tr>\n",
       "      <th>8</th>\n",
       "      <td>-5.389935</td>\n",
       "      <td>-5.188491</td>\n",
       "      <td>[CLS] the wall requires building . [SEP]</td>\n",
       "      <td>0</td>\n",
       "      <td>-10.578427</td>\n",
       "    </tr>\n",
       "    <tr>\n",
       "      <th>6</th>\n",
       "      <td>-4.671208</td>\n",
       "      <td>-5.562908</td>\n",
       "      <td>[CLS] something that might happen while the li...</td>\n",
       "      <td>0</td>\n",
       "      <td>-10.234117</td>\n",
       "    </tr>\n",
       "    <tr>\n",
       "      <th>2</th>\n",
       "      <td>-2.674400</td>\n",
       "      <td>-7.293812</td>\n",
       "      <td>[CLS] if you want to get onto web then you sho...</td>\n",
       "      <td>1</td>\n",
       "      <td>-9.968212</td>\n",
       "    </tr>\n",
       "    <tr>\n",
       "      <th>1</th>\n",
       "      <td>-1.678743</td>\n",
       "      <td>-5.335318</td>\n",
       "      <td>[CLS] you are likely to find a fe ##rret at a ...</td>\n",
       "      <td>1</td>\n",
       "      <td>-7.014061</td>\n",
       "    </tr>\n",
       "    <tr>\n",
       "      <th>3</th>\n",
       "      <td>-0.213544</td>\n",
       "      <td>-6.551616</td>\n",
       "      <td>[CLS] helium is a gas . [SEP]</td>\n",
       "      <td>1</td>\n",
       "      <td>-6.765160</td>\n",
       "    </tr>\n",
       "    <tr>\n",
       "      <th>10</th>\n",
       "      <td>-1.088470</td>\n",
       "      <td>-4.878314</td>\n",
       "      <td>[CLS] a light match can start a fire . [SEP]</td>\n",
       "      <td>0</td>\n",
       "      <td>-5.966784</td>\n",
       "    </tr>\n",
       "  </tbody>\n",
       "</table>\n",
       "</div>"
      ],
      "text/plain": [
       "    head_prob  tail_prob                                               sent  \\\n",
       "11  -9.620617 -15.595428                  [CLS] beer can cry loudly . [SEP]   \n",
       "5  -12.518746 -11.424589  [CLS] one of the things you do when you case j...   \n",
       "9   -7.586630 -12.061570  [CLS] the carpet requires going to school . [SEP]   \n",
       "4   -4.429261  -9.518251                    [CLS] most rock is hard . [SEP]   \n",
       "7   -6.372176  -7.574993          [CLS] go jo ##g requires a person . [SEP]   \n",
       "0   -3.669341  -7.466171                [CLS] the tool is an object . [SEP]   \n",
       "8   -5.389935  -5.188491           [CLS] the wall requires building . [SEP]   \n",
       "6   -4.671208  -5.562908  [CLS] something that might happen while the li...   \n",
       "2   -2.674400  -7.293812  [CLS] if you want to get onto web then you sho...   \n",
       "1   -1.678743  -5.335318  [CLS] you are likely to find a fe ##rret at a ...   \n",
       "3   -0.213544  -6.551616                      [CLS] helium is a gas . [SEP]   \n",
       "10  -1.088470  -4.878314       [CLS] a light match can start a fire . [SEP]   \n",
       "\n",
       "    label  pmi_squared  \n",
       "11      0   -25.216044  \n",
       "5       0   -23.943336  \n",
       "9       0   -19.648201  \n",
       "4       1   -13.947512  \n",
       "7       0   -13.947169  \n",
       "0       1   -11.135512  \n",
       "8       0   -10.578427  \n",
       "6       0   -10.234117  \n",
       "2       1    -9.968212  \n",
       "1       1    -7.014061  \n",
       "3       1    -6.765160  \n",
       "10      0    -5.966784  "
      ]
     },
     "execution_count": 17,
     "metadata": {},
     "output_type": "execute_result"
    }
   ],
   "source": [
    "df.sort_values('pmi_squared')"
   ]
  },
  {
   "cell_type": "code",
   "execution_count": 29,
   "metadata": {},
   "outputs": [],
   "source": [
    "sent, mask, ids, label = sentences_head[0]\n",
    "pred_head = bert(mask.reshape(1,-1), ids.reshape(1,-1)).log_softmax(2)"
   ]
  },
  {
   "cell_type": "code",
   "execution_count": 32,
   "metadata": {},
   "outputs": [],
   "source": [
    "sent, mask, ids, label = sentences_tail[0]\n",
    "pred_tail = bert(mask.reshape(1,-1), ids.reshape(1,-1)).log_softmax(2)"
   ]
  },
  {
   "cell_type": "code",
   "execution_count": 35,
   "metadata": {},
   "outputs": [
    {
     "data": {
      "text/plain": [
       "'[CLS] the tool is an [MASK] . [SEP]'"
      ]
     },
     "execution_count": 35,
     "metadata": {},
     "output_type": "execute_result"
    }
   ],
   "source": [
    "sentences_head.id_to_text(mask)"
   ]
  },
  {
   "cell_type": "code",
   "execution_count": null,
   "metadata": {},
   "outputs": [],
   "source": [
    "pred_head[0,2,:]"
   ]
  },
  {
   "cell_type": "code",
   "execution_count": 36,
   "metadata": {},
   "outputs": [
    {
     "data": {
      "text/plain": [
       "tensor([-14.5999, -14.8616, -15.0442,  ..., -14.7977, -15.0979, -13.2881],\n",
       "       grad_fn=<SliceBackward>)"
      ]
     },
     "execution_count": 36,
     "metadata": {},
     "output_type": "execute_result"
    }
   ],
   "source": [
    "pred_tail[0,5,:]"
   ]
  },
  {
   "cell_type": "code",
   "execution_count": 37,
   "metadata": {},
   "outputs": [
    {
     "data": {
      "text/plain": [
       "'example axe acronym object engine invention amplifier algorithm instrument explosive umbrella envelope arrow encyclopedia idea integer oven anchor apparatus illusion ##vil option egg automatic eye expert apple attachment animal arm implant elevator opener iv analogy item artifact airplane accelerator antenna experiment accessory orb enigma index accordion organ automobile iphone android innovation interface imp image alternative investment ax organism aircraft argument interceptor expression array app oracle implement edge equation rpg alphabet amulet indicator exercise alias x organizer atlas injection adjective instant element ultimatum exception application orgasm inhibitor emergency icon adaptation ace asteroid actor absolute emerald explosion elastic illustration asset imperative elephant'"
      ]
     },
     "execution_count": 37,
     "metadata": {},
     "output_type": "execute_result"
    }
   ],
   "source": [
    "sentences_head.id_to_text(pred_tail[0,5,:].topk(100)[1])"
   ]
  },
  {
   "cell_type": "code",
   "execution_count": null,
   "metadata": {},
   "outputs": [],
   "source": []
  }
 ],
 "metadata": {
  "kernelspec": {
   "display_name": "Python 3",
   "language": "python",
   "name": "python3"
  },
  "language_info": {
   "codemirror_mode": {
    "name": "ipython",
    "version": 3
   },
   "file_extension": ".py",
   "mimetype": "text/x-python",
   "name": "python",
   "nbconvert_exporter": "python",
   "pygments_lexer": "ipython3",
   "version": "3.6.5"
  }
 },
 "nbformat": 4,
 "nbformat_minor": 2
}
