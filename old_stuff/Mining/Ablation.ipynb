{
 "cells": [
  {
   "cell_type": "code",
   "execution_count": 1,
   "metadata": {},
   "outputs": [],
   "source": [
    "import pandas as pd\n",
    "import numpy as np\n",
    "import re\n",
    "pd.set_option('display.max_columns', 500)\n"
   ]
  },
  {
   "cell_type": "code",
   "execution_count": 2,
   "metadata": {},
   "outputs": [],
   "source": [
    "def score(tail_cond, tail_marg, head_cond, head_marg, lam = 1):\n",
    "    return ((lam * (tail_cond + head_cond) - (tail_marg + head_marg)))/2"
   ]
  },
  {
   "cell_type": "code",
   "execution_count": 14,
   "metadata": {},
   "outputs": [],
   "source": [
    "df_tuples = pd.read_csv(\n",
    "    '../FilesToUploadToColab/NovelTuples.csv', \n",
    "    sep = '\\t',\n",
    "    header = None\n",
    ")\n",
    "df_tuples.columns = ('rel','head','tail','misc','misc2')\n",
    "\n",
    "df_results_no_grammar = pd.read_csv(\n",
    "    '../FilesToUploadToColab/wikipedia_predictions_template_no_grammar.csv'\n",
    ")\n",
    "df_results_grammar = pd.read_csv(\n",
    "    '../FilesToUploadToColab/wikipedia_predictions_template_grammar.csv'\n",
    ")\n",
    "\n",
    "df_wikipedia_final = pd.read_csv(\n",
    "    '../FilesToUploadToColab/wikipedia_top_final.csv'\n",
    ")\n",
    "df_wikipedia_final = df_wikipedia_final[[\n",
    "    'rel', \n",
    "    'head', \n",
    "    'tail',\n",
    "    'Josh-Rating',\n",
    "    'Joe-Rating',\n",
    "    'Avg-Rating'\n",
    "]]"
   ]
  },
  {
   "cell_type": "code",
   "execution_count": 15,
   "metadata": {},
   "outputs": [],
   "source": [
    "for lam in np.arange(1, 11, 1):\n",
    "    df_tuples[f'score_grammar_{lam}'] = score(\n",
    "        df_results_grammar.tail_conditional,\n",
    "        df_results_grammar.tail_marginal, \n",
    "        df_results_grammar.head_conditional, \n",
    "        df_results_grammar.head_marginal, \n",
    "        lam = lam\n",
    "    )\n",
    "    df_tuples[f'score_no_grammar_{lam}'] = score(\n",
    "        df_results_no_grammar.tail_conditional,\n",
    "        df_results_no_grammar.tail_marginal, \n",
    "        df_results_no_grammar.head_conditional, \n",
    "        df_results_no_grammar.head_marginal, \n",
    "        lam = lam\n",
    "    )"
   ]
  },
  {
   "cell_type": "code",
   "execution_count": 16,
   "metadata": {},
   "outputs": [],
   "source": [
    "df_tuples['top_100'] = False"
   ]
  },
  {
   "cell_type": "code",
   "execution_count": 17,
   "metadata": {},
   "outputs": [],
   "source": [
    "for clm in df_tuples.columns:\n",
    "    if 'score' in clm:\n",
    "        df_tuples[clm.replace('score', 'rank')] = df_tuples[clm].rank(ascending=False)        "
   ]
  },
  {
   "cell_type": "code",
   "execution_count": 18,
   "metadata": {},
   "outputs": [],
   "source": [
    "for clm in df_tuples.columns:\n",
    "    if 'score' in clm:\n",
    "        df_tuples.loc[df_tuples[clm].rank(ascending=False) <= 100, 'top_100'] = True"
   ]
  },
  {
   "cell_type": "code",
   "execution_count": 19,
   "metadata": {},
   "outputs": [],
   "source": [
    "for clm in df_tuples.columns:\n",
    "    if 'score' in clm:\n",
    "        df_tuples[clm.replace('score', 'rank')] = df_tuples[clm].rank(ascending=False)        "
   ]
  },
  {
   "cell_type": "code",
   "execution_count": 20,
   "metadata": {},
   "outputs": [],
   "source": [
    "df_tuples = df_tuples.merge(df_wikipedia_final, how = 'left',on = ['rel', 'head', 'tail'])"
   ]
  },
  {
   "cell_type": "code",
   "execution_count": 23,
   "metadata": {},
   "outputs": [],
   "source": [
    "df_tuples = df_tuples[df_tuples.top_100]"
   ]
  },
  {
   "cell_type": "code",
   "execution_count": 25,
   "metadata": {},
   "outputs": [],
   "source": [
    "df_tuples.to_csv('ablations.csv')"
   ]
  },
  {
   "cell_type": "code",
   "execution_count": null,
   "metadata": {},
   "outputs": [],
   "source": []
  }
 ],
 "metadata": {
  "kernelspec": {
   "display_name": "Python 3",
   "language": "python",
   "name": "python3"
  },
  "language_info": {
   "codemirror_mode": {
    "name": "ipython",
    "version": 3
   },
   "file_extension": ".py",
   "mimetype": "text/x-python",
   "name": "python",
   "nbconvert_exporter": "python",
   "pygments_lexer": "ipython3",
   "version": "3.6.5"
  }
 },
 "nbformat": 4,
 "nbformat_minor": 2
}
